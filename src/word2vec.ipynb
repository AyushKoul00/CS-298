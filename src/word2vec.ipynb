{
 "cells": [
  {
   "cell_type": "code",
   "execution_count": 6,
   "metadata": {},
   "outputs": [],
   "source": [
    "import os\n",
    "import numpy as np\n",
    "from gensim.models import Word2Vec\n",
    "import pickle\n",
    "from typing import Any, Dict, Iterator, List, Optional, Tuple\n",
    "from multiprocessing import cpu_count\n",
    "from pathlib import Path"
   ]
  },
  {
   "cell_type": "code",
   "execution_count": 7,
   "metadata": {},
   "outputs": [],
   "source": [
    "# Define variables\n",
    "MALWARE_DIR = Path('../malware_data/v077_clean/')  # Directory containing malware type folders\n",
    "SAVED_MODELS_DIR = Path(f'../saved_models/word2vec/')\n",
    "os.makedirs(SAVED_MODELS_DIR, exist_ok=True)\n",
    "MALWARE_TYPES = ['Winwebsec', 'Small', 'Zbot']  # Malware type folder names\n",
    "MAX_SAMPLES_PER_TYPE = [500] * len(MALWARE_TYPES) # Set to -1 to read all files, or set to maximum number of files per folder\n",
    "EMBEDDING_SIZE = 128        # Dimension of the embeddings (vectors)\n",
    "NUM_CORES = cpu_count()"
   ]
  },
  {
   "cell_type": "code",
   "execution_count": 8,
   "metadata": {},
   "outputs": [],
   "source": [
    "# Dictionary to store embeddings per file\n",
    "MEAN_EMBEDDING_PER_FILE: Dict[Path, np.ndarray] = {}\n",
    "\n",
    "# Process each malware type\n",
    "for malware_type, max_samples in zip(MALWARE_TYPES, MAX_SAMPLES_PER_TYPE):\n",
    "    curr_dir = MALWARE_DIR / malware_type\n",
    "    if not curr_dir.is_dir():\n",
    "        continue  # Skip if the directory doesn't exist\n",
    "\n",
    "    # Convert to a list so we can reuse it\n",
    "    filepaths = list(curr_dir.glob('*.txt'))\n",
    "\n",
    "    # Optionally limit the number of samples\n",
    "    if max_samples > 0 and max_samples < len(filepaths):\n",
    "        filepaths = filepaths[:max_samples]\n",
    "\n",
    "    # Build the corpus (list of opcode lists)\n",
    "    corpus: List[List[str]] = []\n",
    "    for filepath in filepaths:\n",
    "        with filepath.open('r') as f:\n",
    "            # Collect non-empty lines (opcodes)\n",
    "            opcodes = [l for line in f if (l := line.strip())]\n",
    "            corpus.append(opcodes)\n",
    "\n",
    "    # Train a Word2Vec model for the current malware family\n",
    "    model = Word2Vec(\n",
    "        sentences=corpus,\n",
    "        vector_size=EMBEDDING_SIZE,  # Embedding size\n",
    "        window=5,                    # Context window size\n",
    "        min_count=1,                 # Minimum frequency for a word to be included\n",
    "        workers=NUM_CORES - 1        # Number of worker threads\n",
    "    )\n",
    "\n",
    "    # Save the Word2Vec model for the current malware family\n",
    "    model_filename = SAVED_MODELS_DIR / f'{malware_type}.model'\n",
    "    model.save(str(model_filename))\n",
    "\n",
    "    # Compute and store mean embeddings for each file\n",
    "    for filepath, opcodes in zip(filepaths, corpus):\n",
    "        # Only take opcodes that are actually in the model vocabulary\n",
    "        valid_embeddings = [model.wv[opcode] for opcode in opcodes if opcode in model.wv]\n",
    "        if valid_embeddings:\n",
    "            mean_embedding = np.mean(valid_embeddings, axis=0)\n",
    "            MEAN_EMBEDDING_PER_FILE[(malware_type, filepath.name)] = mean_embedding\n",
    "\n",
    "# Save MEAN_EMBEDDING_PER_FILE to a pickle file\n",
    "with (SAVED_MODELS_DIR / 'mean_embedding_per_file.pkl').open('wb') as f:\n",
    "    pickle.dump(MEAN_EMBEDDING_PER_FILE, f)"
   ]
  },
  {
   "cell_type": "code",
   "execution_count": 9,
   "metadata": {},
   "outputs": [],
   "source": [
    "def get_embedding(key: Tuple[str, str]) -> Optional[Any]:\n",
    "    \"\"\"Return the stored mean embedding for a given file Path.\"\"\"\n",
    "    global MEAN_EMBEDDING_PER_FILE\n",
    "    return MEAN_EMBEDDING_PER_FILE.get(key)\n",
    "\n",
    "def embeddings() -> Iterator[Any]:\n",
    "    \"\"\"Yield embeddings for all (limited) files across malware types.\"\"\"\n",
    "    for malware_type, max_samples in zip(MALWARE_TYPES, MAX_SAMPLES_PER_TYPE):\n",
    "        curr_dir = MALWARE_DIR / malware_type\n",
    "        if not curr_dir.is_dir():\n",
    "            continue\n",
    "        \n",
    "        filepaths = list(curr_dir.glob('*.txt'))\n",
    "        if max_samples > 0 and max_samples < len(filepaths):\n",
    "            filepaths = filepaths[:max_samples]\n",
    "\n",
    "        for filepath in filepaths:\n",
    "            yield get_embedding((malware_type, filepath.name))"
   ]
  },
  {
   "cell_type": "code",
   "execution_count": 10,
   "metadata": {},
   "outputs": [
    {
     "name": "stdout",
     "output_type": "stream",
     "text": [
      "No embedding found for ('winwebsec', 'abc.txt')\n",
      "Embedding snippet: [ 0.10249733 -0.03996338  0.21091564  0.05049903 -0.06158462]\n",
      "Embedding snippet: [ 0.08773718 -0.03971084  0.19041756  0.04871096 -0.06594443]\n",
      "Embedding snippet: [ 0.10199254 -0.0398697   0.21051994  0.0509351  -0.06224331]\n",
      "Embedding snippet: [ 0.09799849 -0.04374395  0.2077497   0.04074389 -0.0583244 ]\n",
      "Embedding snippet: [ 0.10385019 -0.039882    0.21306482  0.05123089 -0.06181939]\n",
      "Embedding snippet: [ 0.10478633 -0.03943843  0.21390165  0.05249811 -0.06208977]\n",
      "Embedding snippet: [ 0.09602232 -0.04121439  0.20355715  0.04612888 -0.061205  ]\n",
      "Embedding snippet: [ 0.08154099 -0.04482854  0.18114813  0.03234535 -0.05835709]\n",
      "Embedding snippet: [ 0.09498408 -0.04149315  0.20261908  0.04525712 -0.0612473 ]\n",
      "Embedding snippet: [ 0.09023526 -0.03889105  0.19174007  0.04743979 -0.06219181]\n",
      "Embedding snippet: [ 0.1385974  -0.21818477  0.36685508 -0.0061657   0.00746093]\n",
      "Embedding snippet: [ 0.13317099 -0.2971249   0.19012211  0.03421423 -0.0248022 ]\n",
      "Embedding snippet: [ 0.13880977 -0.22244234  0.3633459  -0.00646692  0.00565743]\n",
      "Embedding snippet: [ 0.13418514 -0.27611274  0.25848964  0.01264543 -0.02145836]\n",
      "Embedding snippet: [ 0.14026023 -0.27118146  0.22458337  0.0403487  -0.00143904]\n",
      "Embedding snippet: [ 0.13881458 -0.22308473  0.36125275 -0.00589731  0.00549032]\n",
      "Embedding snippet: [ 0.14082567 -0.13752174  0.5924536  -0.07198056  0.02586718]\n",
      "Embedding snippet: [ 0.12559846 -0.34389746  0.11959223  0.03381968 -0.05842566]\n",
      "Embedding snippet: [ 0.13307741 -0.29842517  0.18478899  0.03553137 -0.02471086]\n",
      "Embedding snippet: [ 0.14014669 -0.20753415  0.37650558 -0.00245286  0.01618463]\n",
      "Embedding snippet: [-0.02786509  0.04504481 -0.07715106  0.00640543 -0.09372196]\n",
      "Embedding snippet: [-0.02633611  0.0454616  -0.07611276  0.00510393 -0.09569342]\n",
      "Embedding snippet: [-0.02817676  0.04473341 -0.07885287  0.00648753 -0.09104947]\n",
      "Embedding snippet: [-0.01701728  0.04458785 -0.05979064 -0.01087756 -0.11692309]\n",
      "Embedding snippet: [ 0.04615919 -0.00112051 -0.04553648 -0.01500002 -0.06805561]\n",
      "Embedding snippet: [-0.02964656  0.04640824 -0.08737706  0.005474   -0.09701336]\n",
      "Embedding snippet: [ 0.03701449  0.00095613 -0.0080113  -0.00544324 -0.04232836]\n",
      "Embedding snippet: [ 0.03402938  0.00544241 -0.03495274 -0.00385351 -0.05344883]\n",
      "Embedding snippet: [ 0.04584531  0.00080946 -0.04116614 -0.01329214 -0.07015718]\n",
      "Embedding snippet: [-0.02990507  0.04537717 -0.07701016  0.00673243 -0.09190441]\n"
     ]
    }
   ],
   "source": [
    "# # Example usage: get a specific embedding\n",
    "# key = (MALWARE_TYPES[0], 'abc.txt')\n",
    "# embedding = get_embedding(key)\n",
    "# if embedding is not None:\n",
    "#     print(\"Embedding (first 5 elements):\", embedding[:5])\n",
    "# else:\n",
    "#     print('No embedding found for', key)\n",
    "\n",
    "# # Example usage: iterate over all embeddings\n",
    "# for E in embeddings():\n",
    "#     if E is not None:\n",
    "#         print(\"Embedding snippet:\", E[:5])\n",
    "#     else:\n",
    "#         print(\"No embedding for this file.\")"
   ]
  }
 ],
 "metadata": {
  "kernelspec": {
   "display_name": "cs298",
   "language": "python",
   "name": "python3"
  },
  "language_info": {
   "codemirror_mode": {
    "name": "ipython",
    "version": 3
   },
   "file_extension": ".py",
   "mimetype": "text/x-python",
   "name": "python",
   "nbconvert_exporter": "python",
   "pygments_lexer": "ipython3",
   "version": "3.9.18"
  }
 },
 "nbformat": 4,
 "nbformat_minor": 2
}
