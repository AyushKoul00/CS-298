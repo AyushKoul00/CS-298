{
 "cells": [
  {
   "cell_type": "code",
   "execution_count": 5,
   "id": "abc08422",
   "metadata": {},
   "outputs": [],
   "source": [
    "import pandas as pd\n",
    "import numpy as np\n",
    "from typing import List, Dict, Tuple\n"
   ]
  },
  {
   "cell_type": "code",
   "execution_count": 8,
   "id": "af459c6c",
   "metadata": {},
   "outputs": [
    {
     "name": "stdout",
     "output_type": "stream",
     "text": [
      "19098\n"
     ]
    }
   ],
   "source": [
    "pickle_file = '/home/016950414/cs298/saved_models/one_hot/opcode_distribution_embeddings.pkl'\n",
    "embeddings : Dict[Tuple[str, str], np.ndarray] = pd.read_pickle(pickle_file)\n",
    "print(len(embeddings))"
   ]
  },
  {
   "cell_type": "code",
   "execution_count": 7,
   "id": "e5993452",
   "metadata": {},
   "outputs": [
    {
     "name": "stdout",
     "output_type": "stream",
     "text": [
      "('VBInject', 'VirusShare_df64ca577c024420adae1a82ca4b07b2.txt')\n",
      "(1698,)\n",
      "[0.0005848  0.00175439 0.         ... 0.         0.         0.        ]\n",
      "1.0\n"
     ]
    }
   ],
   "source": [
    "for (key, value) in embeddings.items():\n",
    "    print(key)\n",
    "    print(value.shape)\n",
    "    print(value)\n",
    "    # sum of value vector\n",
    "    sum_value = np.sum(value)\n",
    "    print(sum_value)\n",
    "    break\n",
    "\n"
   ]
  },
  {
   "cell_type": "code",
   "execution_count": null,
   "id": "10126ecf",
   "metadata": {},
   "outputs": [],
   "source": []
  }
 ],
 "metadata": {
  "kernelspec": {
   "display_name": ".venv",
   "language": "python",
   "name": "python3"
  },
  "language_info": {
   "codemirror_mode": {
    "name": "ipython",
    "version": 3
   },
   "file_extension": ".py",
   "mimetype": "text/x-python",
   "name": "python",
   "nbconvert_exporter": "python",
   "pygments_lexer": "ipython3",
   "version": "3.11.7"
  }
 },
 "nbformat": 4,
 "nbformat_minor": 5
}
