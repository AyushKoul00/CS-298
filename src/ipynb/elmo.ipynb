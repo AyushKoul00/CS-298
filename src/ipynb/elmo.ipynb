{
 "cells": [
  {
   "cell_type": "code",
   "execution_count": 22,
   "metadata": {},
   "outputs": [],
   "source": [
    "import tensorflow as tf\n",
    "import tensorflow_hub as hub\n",
    "import numpy as np\n",
    "import sys\n",
    "import os\n",
    "from pathlib import Path"
   ]
  },
  {
   "cell_type": "code",
   "execution_count": 23,
   "metadata": {},
   "outputs": [],
   "source": [
    "# Define variables\n",
    "MALWARE_DIR = Path('../malware_data/v077_clean/')  # Directory containing malware type folders\n",
    "SAVED_MODELS_DIR = Path(f'../saved_models/elmo/')\n",
    "os.makedirs(SAVED_MODELS_DIR, exist_ok=True)\n",
    "MALWARE_TYPES = ['Winwebsec', 'Small', 'Zbot']  # Malware type folder names\n",
    "MAX_SAMPLES_PER_TYPE = [500] * len(MALWARE_TYPES) # Set to -1 to read all files, or set to maximum number of files per folder"
   ]
  },
  {
   "cell_type": "code",
   "execution_count": 24,
   "metadata": {},
   "outputs": [],
   "source": [
    "def load_opcodes(file_path):\n",
    "    \"\"\"Load opcodes from a file, one per line\"\"\"\n",
    "    with open(file_path, 'r') as f:\n",
    "        return [l for line in f if (l := line.strip())]\n",
    "\n",
    "def get_elmo_embeddings(opcodes):\n",
    "    \"\"\"Get a single embedding for the entire opcode sequence\"\"\"\n",
    "    # Treat the entire sequence as a single sentence\n",
    "    sentences = [opcodes]\n",
    "    \n",
    "    # Load ELMo model\n",
    "    elmo = hub.load(\"https://tfhub.dev/google/elmo/3\")\n",
    "    \n",
    "    # Prepare inputs\n",
    "    tokens_input = tf.constant(sentences)\n",
    "    lengths = tf.constant([len(opcodes)])\n",
    "    \n",
    "    # Get embeddings\n",
    "    outputs = elmo.signatures[\"tokens\"](\n",
    "        tokens=tokens_input,\n",
    "        sequence_len=lengths\n",
    "    )\n",
    "    \n",
    "    # Average all token embeddings to get sequence-level embedding\n",
    "    token_embeddings = outputs[\"elmo\"].numpy()[0]  # Shape: (num_opcodes, 1024)\n",
    "    sequence_embedding = np.mean(token_embeddings, axis=0)  # Shape: (1024,)\n",
    "    \n",
    "    return sequence_embedding"
   ]
  },
  {
   "cell_type": "code",
   "execution_count": 25,
   "metadata": {},
   "outputs": [
    {
     "name": "stdout",
     "output_type": "stream",
     "text": [
      "Generated single embedding for 1060 opcodes\n",
      "Embedding shape: (1024,)\n"
     ]
    }
   ],
   "source": [
    "opcodes = load_opcodes('malware_samples/winwebsec/0a4da66b67ee14db74aa982fb86d495ecb1ad229.asm.txt')\n",
    "if not opcodes:\n",
    "    print(\"No valid opcodes found in file\")\n",
    "    exit(1)\n",
    "\n",
    "embedding = get_elmo_embeddings(opcodes)\n",
    "print(f\"Generated single embedding for {len(opcodes)} opcodes\")\n",
    "print(f\"Embedding shape: {embedding.shape}\")\n",
    "np.save(\"opcode_embedding.npy\", embedding)\n",
    "print(\"Saved to opcode_embedding.npy\")"
   ]
  },
  {
   "cell_type": "code",
   "execution_count": 26,
   "metadata": {},
   "outputs": [
    {
     "data": {
      "text/plain": [
       "'\\nResources\\nhttps://stackoverflow.com/questions/67298869/extracting-elmo-features-using-tensorflow-and-convert-them-to-numpy\\n'"
      ]
     },
     "execution_count": 26,
     "metadata": {},
     "output_type": "execute_result"
    }
   ],
   "source": [
    "'''\n",
    "Resources\n",
    "https://stackoverflow.com/questions/67298869/extracting-elmo-features-using-tensorflow-and-convert-them-to-numpy\n",
    "'''"
   ]
  }
 ],
 "metadata": {
  "kernelspec": {
   "display_name": "cs298",
   "language": "python",
   "name": "python3"
  },
  "language_info": {
   "codemirror_mode": {
    "name": "ipython",
    "version": 3
   },
   "file_extension": ".py",
   "mimetype": "text/x-python",
   "name": "python",
   "nbconvert_exporter": "python",
   "pygments_lexer": "ipython3",
   "version": "3.9.18"
  }
 },
 "nbformat": 4,
 "nbformat_minor": 2
}
